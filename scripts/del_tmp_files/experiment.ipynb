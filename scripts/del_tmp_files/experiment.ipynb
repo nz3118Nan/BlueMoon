{
 "cells": [
  {
   "cell_type": "markdown",
   "metadata": {},
   "source": []
  },
  {
   "cell_type": "code",
   "execution_count": null,
   "metadata": {},
   "outputs": [],
   "source": [
    "# curl -X GET 'https://api.dify.ai/v1/messages?user=abc-123&conversation_id='\\\n",
    "#  --header 'Authorization: Bearer {api_key}'\n",
    "\n",
    "import requests"
   ]
  }
 ],
 "metadata": {
  "kernelspec": {
   "display_name": "blueprint",
   "language": "python",
   "name": "python3"
  },
  "language_info": {
   "name": "python",
   "version": "3.10.16"
  }
 },
 "nbformat": 4,
 "nbformat_minor": 2
}
